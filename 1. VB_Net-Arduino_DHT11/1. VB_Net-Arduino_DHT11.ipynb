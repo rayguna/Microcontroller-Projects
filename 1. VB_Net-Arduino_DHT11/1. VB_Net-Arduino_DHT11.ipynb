{
 "cells": [
  {
   "cell_type": "markdown",
   "metadata": {},
   "source": [
    "### Read Temperature with Arduino and VB.Net GUI"
   ]
  },
  {
   "cell_type": "markdown",
   "metadata": {},
   "source": [
    "#### Overview:\n",
    "    1. Prelude\n",
    "    2. Setting up Arduino\n",
    "    3. Setting up VB.Net\n",
    "    4. Demonstration\n",
    "    5. Codes reusability\n",
    "    6. References"
   ]
  },
  {
   "cell_type": "markdown",
   "metadata": {},
   "source": [
    "***"
   ]
  },
  {
   "cell_type": "markdown",
   "metadata": {},
   "source": [
    "#### 1. Prelude\n",
    "\n",
    "Using VB.Net, we can create a GUI application that can be converted into an executable file that can be run on windows. To do so, we must program both Arduino and VB.Net (see below). On Arduino, the program reads signals from DHT11 and sends to the computer temperature and humidity (see <b>section 2</b>). On VB.Net, temperature and humidity are read as a string, which is parsed by a comma and displayed separately on the GUI (see <b>section 3</b>). "
   ]
  },
  {
   "cell_type": "markdown",
   "metadata": {},
   "source": [
    "#### 2. Setting up Arduino [1]\n",
    "\n",
    "#### 2.1. Parts and Circuit\n",
    "*(a) Parts*  \n",
    "> -DHT11 sensor (1)  \n",
    "-5 kOhm Resistor (1)  \n",
    "-Wires (3)  \n",
    "\n",
    "*(b) Circuit*  \n",
    "DHT11 has three connections:    \n",
    "\n",
    ">    -Signal - connect to pin 2   \n",
    "    -Voltage - connect to 5V  \n",
    "    -Ground - connect to GND  \n",
    "\n",
    "<p align=\"left\"><b> Figure 1.1. Schematics </b></p>\n",
    "<img src=Images/Fig_1-1_Schematics.png width=200 align=\"left\">\n",
    "\n"
   ]
  },
  {
   "cell_type": "markdown",
   "metadata": {},
   "source": [
    "*(c) The Program*\n",
    "\n",
    "First, remember to install the SimpleDHT Library. To do so, download the zip file from this link: https://www.arduinolibraries.info/libraries/simple-dht. Then, on Arduino software go to Sketch -> Include library -> Add .ZIP Library..., locate the file downloaded zip file, and click open. The library will be added.\n",
    "\n",
    "To verify that the library has been installed, again go to Sketch -> Include Library -> Manage Libraries... A window will pop out. In the textbox at the top right hand, type simpleDHT. If the library was successfully installed, you will see the INSTALLED message. At this point, you are ready to upload the Arduino program. Start a new script. Copy and paste the code below [1] and save the program as DHT11. Compile the program and then upload. Remember to set the correct COM port by going to Tools -> Port. The code below is fully copied from the CD that comes with ELEGOO UNO Project Super Starter Kit (https://www.elegoo.com/product/elegoo-uno-project-super-starter-kit/). "
   ]
  },
  {
   "cell_type": "code",
   "execution_count": null,
   "metadata": {
    "collapsed": true
   },
   "outputs": [],
   "source": [
    "//www.elegoo.com\n",
    "//2016.06.13\n",
    "\n",
    "#include <SimpleDHT.h>\n",
    "\n",
    "// for DHT11, \n",
    "//      VCC: 5V or 3V\n",
    "//      GND: GND\n",
    "//      DATA: 2\n",
    "int pinDHT11 = 2;\n",
    "SimpleDHT11 dht11;\n",
    "\n",
    "void setup() {\n",
    "  Serial.begin(9600);\n",
    "}\n",
    "\n",
    "void loop() {\n",
    "  // start working...\n",
    "  Serial.println(\"=================================\");\n",
    "  Serial.println(\"Sample DHT11...\");\n",
    "  \n",
    "  // read with raw sample data.\n",
    "  byte temperature = 0;\n",
    "  byte humidity = 0;\n",
    "  byte data[40] = {0};\n",
    "  if (dht11.read(pinDHT11, &temperature, &humidity, data)) {\n",
    "    Serial.print(\"Read DHT11 failed\");\n",
    "    return;\n",
    "  }\n",
    "  \n",
    "  Serial.print(\"Sample RAW Bits: \");\n",
    "  for (int i = 0; i < 40; i++) {\n",
    "    Serial.print((int)data[i]);\n",
    "    if (i > 0 && ((i + 1) % 4) == 0) {\n",
    "      Serial.print(' ');\n",
    "    }\n",
    "  }\n",
    "  Serial.println(\"\");\n",
    "  \n",
    "  Serial.print(\"Sample OK: \");\n",
    "  Serial.print((int)temperature); Serial.print(\" *C, \");\n",
    "  Serial.print((int)humidity); Serial.println(\" %\");\n",
    "  \n",
    "  // DHT11 sampling rate is 1HZ.\n",
    "  delay(1000);\n",
    "}"
   ]
  },
  {
   "cell_type": "markdown",
   "metadata": {},
   "source": [
    "*(d) Testing the program*  \n",
    "To view the temperature and humidity reading, go to tools -> Serial Monitor to bring out the Serial monitor window (<b>Figure 2.1 </b>).  \n",
    "<br>\n",
    "\n",
    "<b><center>Figure 2.1. Arduino serial monitor window. </center></b>\n",
    "\n",
    "(a)             |  (b)\n",
    ":-------------------------:|:-------------------------:\n",
    "<img src=Images/Fig_2-1a_Serial_monitor_1.png width=300>  |  <img src=Images/Fig_2-1b_Serial_monitor_2.png width=300>\n"
   ]
  },
  {
   "cell_type": "markdown",
   "metadata": {},
   "source": [
    "*(e) Modifying the program*  \n",
    "\n",
    "For the purpose of monitoring a livestream data on VB.Net GUI, let's modify the code as follows:"
   ]
  },
  {
   "cell_type": "code",
   "execution_count": null,
   "metadata": {
    "collapsed": true
   },
   "outputs": [],
   "source": [
    "//Code is taken from: www.elegoo.com\n",
    "//2016.06.13\n",
    "\n",
    "#include <SimpleDHT.h>\n",
    "\n",
    "// for DHT11, \n",
    "//      VCC: 5V or 3V\n",
    "//      GND: GND\n",
    "//      DATA: 2\n",
    "int pinDHT11 = 2;\n",
    "SimpleDHT11 dht11;\n",
    "\n",
    "void setup() {\n",
    "  Serial.begin(9600);\n",
    "}\n",
    "\n",
    "void loop() {\n",
    "\n",
    "while (Serial.available() == 0);\n",
    "\n",
    "int val = Serial.read() - '0';\n",
    "\n",
    "if (val == 1){\n",
    "  //If a signal of val==1 is received from VB.Net, read data from DHT11\n",
    "  // start working... \n",
    "  // read with raw sample data.\n",
    "  byte temperature = 0;\n",
    "  byte humidity = 0;\n",
    "  byte data[40] = {0};\n",
    "  \n",
    "  if (dht11.read(pinDHT11, &temperature, &humidity, data)) {\n",
    "    //Serial.print(\"Read DHT11 failed\");\n",
    "    return;}\n",
    "  \n",
    "  //Separate the two values by a comma so that it can later be parsed\n",
    "  Serial.print((int)temperature); Serial.print(\" *C, \");\n",
    "  Serial.print((int)humidity); Serial.println(\" % \");\n",
    "  \n",
    "  // DHT11 sampling rate is 1HZ.\n",
    "  delay(1000);}\n",
    " else if (val==0){\n",
    "  //do nothing if signal of val==0 is received fro VB.Net\n",
    "  }\n",
    "}"
   ]
  },
  {
   "cell_type": "markdown",
   "metadata": {},
   "source": [
    "#### 3. Setting up VB.Net \n",
    "#### 3.1. The VB.Net GUI\n",
    "Below shows the form (<b>Figure 3.1</b>) that is associated with the code below. VB.Net is prepared using Visual Studio 2017.\n",
    "\n",
    "<br>\n",
    "<p align=\"left\"><b> Figure 3.1.</b> VB.Net form.</p>\n",
    "\n",
    "<img src=Images/Fig_3-1_VB-Net_GUI.png width=300 align=\"left\">"
   ]
  },
  {
   "cell_type": "markdown",
   "metadata": {},
   "source": [
    "####  3.2. Programming the VB.Net [2]"
   ]
  },
  {
   "cell_type": "code",
   "execution_count": null,
   "metadata": {
    "collapsed": true
   },
   "outputs": [],
   "source": [
    "Imports System.IO.Ports\n",
    "\n",
    "Public Class Form1\n",
    "    'Code is adapted from: http://www.martyncurrey.com/arduino-and-visual-basic-part-1-receiving-data-from-the-arduino/\n",
    "\n",
    "    Dim WithEvents SerialPort As New IO.Ports.SerialPort\n",
    "    Dim selPort As String\n",
    "\n",
    "    Dim comPORT As String\n",
    "    Dim receivedData As String = \"\"\n",
    "\n",
    "    Private Sub Form1_Load(sender As Object, e As EventArgs) Handles MyBase.Load\n",
    "        SPSetup()\n",
    "\n",
    "        Timer1.Enabled = False\n",
    "\n",
    "        comPORT = \"\" 'initialize comPORT as null\n",
    "        For Each sp As String In My.Computer.Ports.SerialPortNames\n",
    "            cmbComPort.Items.Add(sp)\n",
    "        Next\n",
    "        Try\n",
    "            'Use the first entry as the default value\n",
    "            cmbComPort.Text = cmbComPort.Items(0)\n",
    "        Catch ex As Exception\n",
    "            MsgBox(\"No ports are detected. Please check connections.\", MsgBoxStyle.Exclamation, \"Warning\")\n",
    "        End Try\n",
    "\n",
    "    End Sub\n",
    "\n",
    "    Public Sub SPSetup()    'Serial Port Setup\n",
    "        On Error Resume Next\n",
    "        If SerialPort.IsOpen Then\n",
    "            SerialPort.Close()\n",
    "        End If\n",
    "\n",
    "        'Set communication parameters\n",
    "        SerialPort.PortName = selPort  ' \"COM3\"\n",
    "        SerialPort.BaudRate = 9600\n",
    "        SerialPort.DataBits = 8\n",
    "        SerialPort.StopBits = IO.Ports.StopBits.One\n",
    "        SerialPort.Handshake = IO.Ports.Handshake.None\n",
    "        SerialPort.Parity = IO.Ports.Parity.None\n",
    "\n",
    "        SerialPort.Open() 'connect to Serial Port\n",
    "\n",
    "    End Sub\n",
    "    Private Sub btnExit_Click(sender As Object, e As EventArgs) Handles btnExit.Click\n",
    "\n",
    "        Me.Close() 'close form\n",
    "\n",
    "    End Sub\n",
    "    Private Sub cmbComPort_SelectedIndexChanged(sender As Object, e As EventArgs) Handles cmbComPort.SelectedIndexChanged\n",
    "\n",
    "        'set comPort variable to user selected value\n",
    "        If (cmbComPort.SelectedItem <> \"\") Then\n",
    "            comPORT = cmbComPort.SelectedItem\n",
    "        End If\n",
    "\n",
    "    End Sub\n",
    "    Private Sub connect_BTN_Click(sender As Object, e As EventArgs) Handles connect_BTN.Click\n",
    "\n",
    "        'If communication is off, start it and begin communication\n",
    "        If (connect_BTN.Text = \"Connect\") Then\n",
    "            If (comPORT <> \"\") Then\n",
    "                SerialPort1.Close()\n",
    "                SerialPort1.PortName = comPORT\n",
    "                SerialPort1.BaudRate = 9600\n",
    "                SerialPort1.DataBits = 8\n",
    "                SerialPort1.Parity = Parity.None\n",
    "                SerialPort1.StopBits = StopBits.One\n",
    "                SerialPort1.Handshake = Handshake.None\n",
    "                SerialPort1.Encoding = System.Text.Encoding.Default\n",
    "                SerialPort1.ReadTimeout = 10000\n",
    "\n",
    "                SerialPort1.Open()\n",
    "\n",
    "                connect_BTN.Text = \"Disconnect\"\n",
    "                Timer1.Enabled = True\n",
    "                lblTimer.Text = \"Timer: ON\"\n",
    "\n",
    "            Else 'If not connected, provide a warning\n",
    "                MsgBox(\"Select a COM port first\")\n",
    "            End If\n",
    "            'Close port and stop timer\n",
    "\n",
    "        Else\n",
    "            'Send command to Arduino to activate DHT11\n",
    "            SerialPort1.Write(\"0\")\n",
    "\n",
    "            'Close the serial port\n",
    "            SerialPort1.Close()\n",
    "\n",
    "            connect_BTN.Text = \"Connect\"\n",
    "            Timer1.Enabled = False\n",
    "            lblTimer.Text = \"Timer: OFF\"\n",
    "        End If\n",
    "\n",
    "    End Sub\n",
    "    Private Sub Timer1_Tick(sender As Object, e As EventArgs) Handles Timer1.Tick\n",
    "\n",
    "        'As long as timer is on, send command to Arduino to activate DHT11\n",
    "        SerialPort1.Write(\"1\")\n",
    "\n",
    "        'Obtain data via serial communication and update information in textbox\n",
    "        receivedData = ReceiveSerialData()\n",
    "\n",
    "        'try parsing incoming data\n",
    "        Dim temp As New ArrayList() 're-initialize array each time\n",
    "        Try\n",
    "            For Each s As String In receivedData.Split(\",\")\n",
    "                temp.Add(s) 'add to array\n",
    "            Next\n",
    "            lblTemperature.Text = temp(0)\n",
    "            lblHumidity.Text = temp(1)\n",
    "        Catch ex As Exception\n",
    "            'If text is not parseable, show \"-\"\n",
    "            lblTemperature.Text = \"-\"\n",
    "            lblHumidity.Text = \"-\"\n",
    "        End Try\n",
    "\n",
    "    End Sub\n",
    "    Function ReceiveSerialData() As String\n",
    "\n",
    "        'read data via serial communication\n",
    "        Dim Incoming As String\n",
    "        Try\n",
    "            'check for incoming signals\n",
    "            Incoming = SerialPort1.ReadExisting()\n",
    "\n",
    "            If Incoming Is Nothing Then\n",
    "                Return \"nothing\" & vbCrLf\n",
    "            Else\n",
    "                Return Incoming\n",
    "            End If\n",
    "\n",
    "        Catch ex As TimeoutException\n",
    "            'Return \"Error: Serial Port read timed out.\"\n",
    "            Return \"\"\n",
    "        End Try\n",
    "\n",
    "    End Function\n",
    "\n",
    "End Class\n"
   ]
  },
  {
   "cell_type": "markdown",
   "metadata": {},
   "source": [
    "#### 4. Demonstration"
   ]
  },
  {
   "cell_type": "markdown",
   "metadata": {},
   "source": [
    "<b> Figure 4.1 </b> below shows the GUI in the off and on states.\n",
    "\n",
    "<b><center>Figure 4.1. VB.Net GUI. </center></b>\n",
    "\n",
    "(a) Off-state            |  (b) On-state\n",
    ":-------------------------:|:-------------------------:\n",
    "<img src=Images/Fig_4-1a_VB-Net_GUI_off.png width=300>  |  <img src=Images/Fig_4-1b_VB-Net_GUI_on.png width=300>"
   ]
  },
  {
   "cell_type": "markdown",
   "metadata": {},
   "source": [
    "#### 5. Codes reusability\n",
    "\n",
    "- The VB.Net GUI is reusable. It can be modified only slightly to read any incoming serial data.\n",
    "- The Arduino code is reusable. The same script can be used to connect with other types of sensors. I recommend experimenting with the 45 in 1 sensor module for your sensing needs (e.g., https://www.amazon.com/VKmaker-Sensors-Modules-Starter-Arduino/dp/B01CS6UMKQ). \n"
   ]
  },
  {
   "cell_type": "markdown",
   "metadata": {},
   "source": [
    "#### 6. References"
   ]
  },
  {
   "cell_type": "markdown",
   "metadata": {},
   "source": [
    "[1] \"How to Set Up the DHT11 Humidity Sensor on an Arduino\", Posted by Circuit Basics, Retrieved on 08/16/18, URL: \n",
    "http://www.circuitbasics.com/how-to-set-up-the-dht11-humidity-sensor-on-an-arduino/  \n",
    "[2] \"Arduino and Visual Basic Part 1: Receiving Data From the Arduino\", Retrieved on 08/18/18, Martyn Currey, URL: http://www.martyncurrey.com/arduino-and-visual-basic-part-1-receiving-data-from-the-arduino/     "
   ]
  }
 ],
 "metadata": {
  "kernelspec": {
   "display_name": "Python 3",
   "language": "python",
   "name": "python3"
  },
  "language_info": {
   "codemirror_mode": {
    "name": "ipython",
    "version": 3
   },
   "file_extension": ".py",
   "mimetype": "text/x-python",
   "name": "python",
   "nbconvert_exporter": "python",
   "pygments_lexer": "ipython3",
   "version": "3.5.4"
  }
 },
 "nbformat": 4,
 "nbformat_minor": 1
}
